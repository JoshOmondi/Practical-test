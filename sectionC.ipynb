{
 "cells": [
  {
   "cell_type": "markdown",
   "id": "8e86050d",
   "metadata": {},
   "source": [
    "### Create a class Student with a dictionary to hold subjects and marks. Add methods to:\n",
    "#### 1 Add a subject and mark\n",
    "#### 2 Calculate average\n"
   ]
  },
  {
   "cell_type": "code",
   "execution_count": 4,
   "id": "9d333539",
   "metadata": {},
   "outputs": [
    {
     "name": "stdout",
     "output_type": "stream",
     "text": [
      "84.33\n"
     ]
    }
   ],
   "source": [
    "class Student:\n",
    "    def __init__(self, name):\n",
    "        self.name = name\n",
    "        self.marks = {}  \n",
    "\n",
    "    def add_subject_mark(self, subject, mark):\n",
    "        \"\"\"Add or update a subject and its mark.\"\"\"\n",
    "        self.marks[subject] = mark\n",
    "\n",
    "    def calculate_average(self):\n",
    "        \"\"\"Calculate and return the average of all marks.\"\"\"\n",
    "        if len(self.marks) == 0:\n",
    "            return 0  # Avoid division by zero\n",
    "        total = sum(self.marks.values())\n",
    "        average = total / len(self.marks)\n",
    "        return average\n",
    "\n",
    "student1 = Student(\"Bradd\")\n",
    "\n",
    "# Add subjects and marks\n",
    "student1.add_subject_mark(\"Math\", 85)\n",
    "student1.add_subject_mark(\"English\", 90)\n",
    "student1.add_subject_mark(\"Science\", 78)\n",
    "\n",
    "# Print the average\n",
    "print(round(student1.calculate_average(), 2))  \n"
   ]
  },
  {
   "cell_type": "markdown",
   "id": "ecae145e",
   "metadata": {},
   "source": [
    "### Create a class Classroom with a list of Student objects. Write a method to print names of all students scoring an average above 75."
   ]
  },
  {
   "cell_type": "code",
   "execution_count": 6,
   "id": "d383c5e6",
   "metadata": {},
   "outputs": [
    {
     "name": "stdout",
     "output_type": "stream",
     "text": [
      "Students with an average above 75:\n",
      "- Dave (Avg: 87.5)\n",
      "- Palmer (Avg: 79.0)\n"
     ]
    }
   ],
   "source": [
    "class Student:\n",
    "    def __init__(self, name):\n",
    "        self.name = name\n",
    "        self.marks = {}\n",
    "\n",
    "    def add_subject_mark(self, subject, mark):\n",
    "        self.marks[subject] = mark\n",
    "\n",
    "    def calculate_average(self):\n",
    "        if len(self.marks) == 0:\n",
    "            return 0\n",
    "        return sum(self.marks.values()) / len(self.marks)\n",
    "\n",
    "\n",
    "class Classroom:\n",
    "    def __init__(self):\n",
    "        self.students = []\n",
    "\n",
    "    def add_student(self, student):\n",
    "        self.students.append(student)\n",
    "\n",
    "    def print_top_students(self):\n",
    "        print(\"Students with an average above 75:\")\n",
    "        for student in self.students:\n",
    "            if student.calculate_average() > 75:\n",
    "                print(f\"- {student.name} (Avg: {round(student.calculate_average(), 2)})\")\n",
    "\n",
    "\n",
    "s1 = Student(\"Dave\")\n",
    "s1.add_subject_mark(\"Math\", 85)\n",
    "s1.add_subject_mark(\"English\", 90)\n",
    "\n",
    "s2 = Student(\"James\")\n",
    "s2.add_subject_mark(\"Math\", 60)\n",
    "s2.add_subject_mark(\"English\", 70)\n",
    "\n",
    "s3 = Student(\"Palmer\")\n",
    "s3.add_subject_mark(\"Math\", 78)\n",
    "s3.add_subject_mark(\"English\", 80)\n",
    "\n",
    "# Add to classroom\n",
    "classroom = Classroom()\n",
    "classroom.add_student(s1)\n",
    "classroom.add_student(s2)\n",
    "classroom.add_student(s3)\n",
    "\n",
    "# Print top performers\n",
    "classroom.print_top_students()\n"
   ]
  },
  {
   "cell_type": "markdown",
   "id": "96809371",
   "metadata": {},
   "source": [
    "### Add a set inside the Classroom class to keep track of all unique subjects taught."
   ]
  },
  {
   "cell_type": "code",
   "execution_count": 2,
   "id": "83f9393e",
   "metadata": {},
   "outputs": [
    {
     "name": "stdout",
     "output_type": "stream",
     "text": [
      "Students with an average above 75:\n",
      "- Dave (Avg: 87.5)\n",
      "Subjects taught in this classroom:\n",
      "- Math\n",
      "- Science\n",
      "- English\n"
     ]
    }
   ],
   "source": [
    "class Student:\n",
    "    def __init__(self, name):\n",
    "        self.name = name\n",
    "        self.marks = {}\n",
    "\n",
    "    def add_subject_mark(self, subject, mark):\n",
    "        self.marks[subject] = mark\n",
    "\n",
    "    def calculate_average(self):\n",
    "        if len(self.marks) == 0:\n",
    "            return 0\n",
    "        return sum(self.marks.values()) / len(self.marks)\n",
    "\n",
    "\n",
    "class Classroom:\n",
    "    def __init__(self):\n",
    "        self.students = []\n",
    "        self.subjects_taught = set()  # To keep track of unique subjects\n",
    "\n",
    "    def add_student(self, student):\n",
    "        self.students.append(student)\n",
    "        # Update the set of subjects based on this student's subjects\n",
    "        self.subjects_taught.update(student.marks.keys())\n",
    "\n",
    "    def print_top_students(self):\n",
    "        print(\"Students with an average above 75:\")\n",
    "        for student in self.students:\n",
    "            if student.calculate_average() > 75:\n",
    "                print(f\"- {student.name} (Avg: {round(student.calculate_average(), 2)})\")\n",
    "\n",
    "    def print_subjects_taught(self):\n",
    "        print(\"Subjects taught in this classroom:\")\n",
    "        for subject in self.subjects_taught:\n",
    "            print(\"-\", subject)\n",
    "\n",
    "# Create students\n",
    "s1 = Student(\"Dave\")\n",
    "s1.add_subject_mark(\"Math\", 85)\n",
    "s1.add_subject_mark(\"English\", 90)\n",
    "\n",
    "s2 = Student(\"James\")\n",
    "s2.add_subject_mark(\"Math\", 60)\n",
    "s2.add_subject_mark(\"Science\", 70)\n",
    "\n",
    "# Create classroom and add students\n",
    "classroom = Classroom()\n",
    "classroom.add_student(s1)\n",
    "classroom.add_student(s2)\n",
    "\n",
    "# Print top students\n",
    "classroom.print_top_students()\n",
    "\n",
    "# Print unique subjects\n",
    "classroom.print_subjects_taught()\n"
   ]
  },
  {
   "cell_type": "markdown",
   "id": "cba4e15c",
   "metadata": {},
   "source": [
    "###  Use a tuple to store each student's date of birth (dd, mm, yyyy) in the Student class."
   ]
  },
  {
   "cell_type": "code",
   "execution_count": 10,
   "id": "3a3b8856",
   "metadata": {},
   "outputs": [
    {
     "name": "stdout",
     "output_type": "stream",
     "text": [
      "Josh's date of birth is 15/06/2005\n",
      "Average: 87.5\n"
     ]
    }
   ],
   "source": [
    "class Student:\n",
    "    def __init__(self, name, dob):\n",
    "        self.name = name\n",
    "        self.dob = dob  # tuple format: (dd, mm, yyyy)\n",
    "        self.marks = {}\n",
    "\n",
    "    def add_subject_mark(self, subject, mark):\n",
    "        self.marks[subject] = mark\n",
    "\n",
    "    def calculate_average(self):\n",
    "        if len(self.marks) == 0:\n",
    "            return 0\n",
    "        return sum(self.marks.values()) / len(self.marks)\n",
    "\n",
    "    def get_dob(self):\n",
    "        dd, mm, yyyy = self.dob\n",
    "        return f\"{dd:02d}/{mm:02d}/{yyyy}\"\n",
    "\n",
    "# Create student with date of birth\n",
    "s1 = Student(\"Josh\", (15, 6, 2005))\n",
    "s1.add_subject_mark(\"Math\", 85)\n",
    "s1.add_subject_mark(\"English\", 90)\n",
    "\n",
    "# Print details\n",
    "print(f\"{s1.name}'s date of birth is {s1.get_dob()}\")\n",
    "print(f\"Average: {s1.calculate_average()}\")\n"
   ]
  }
 ],
 "metadata": {
  "kernelspec": {
   "display_name": "base",
   "language": "python",
   "name": "python3"
  },
  "language_info": {
   "codemirror_mode": {
    "name": "ipython",
    "version": 3
   },
   "file_extension": ".py",
   "mimetype": "text/x-python",
   "name": "python",
   "nbconvert_exporter": "python",
   "pygments_lexer": "ipython3",
   "version": "3.12.7"
  }
 },
 "nbformat": 4,
 "nbformat_minor": 5
}
