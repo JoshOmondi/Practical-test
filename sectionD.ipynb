{
 "cells": [
  {
   "cell_type": "markdown",
   "id": "04ea0f9a",
   "metadata": {},
   "source": [
    "### Create a class BankAccount with methods:\n",
    "#### deposit(amount)\n",
    "#### withdraw(amount)\n",
    "#### get_balance()\n"
   ]
  },
  {
   "cell_type": "code",
   "execution_count": 2,
   "id": "43e5d07e",
   "metadata": {},
   "outputs": [
    {
     "name": "stdout",
     "output_type": "stream",
     "text": [
      "Rowlince deposited 1000. New balance: 1000.0\n",
      "Rowlince withdrew 300. New balance: 700.0\n",
      "Final balance: 700.0\n"
     ]
    }
   ],
   "source": [
    "class BankAccount:\n",
    "    def __init__(self, owner):\n",
    "        self.owner = owner\n",
    "        self.balance = 0.0\n",
    "\n",
    "    def deposit(self, amount):\n",
    "        if amount > 0:\n",
    "            self.balance += amount\n",
    "            print(f\"{self.owner} deposited {amount}. New balance: {self.balance}\")\n",
    "        else:\n",
    "            print(\"Deposit amount must be positive.\")\n",
    "\n",
    "    def withdraw(self, amount):\n",
    "        if amount <= self.balance:\n",
    "            self.balance -= amount\n",
    "            print(f\"{self.owner} withdrew {amount}. New balance: {self.balance}\")\n",
    "        else:\n",
    "            print(\"Insufficient funds.\")\n",
    "\n",
    "    def get_balance(self):\n",
    "        return self.balance\n",
    "\n",
    "account1 = BankAccount(\"Rowlince\")\n",
    "\n",
    "account1.deposit(1000)\n",
    "\n",
    "account1.withdraw(300)\n",
    "\n",
    "print(f\"Final balance: {account1.get_balance()}\")\n"
   ]
  },
  {
   "cell_type": "markdown",
   "id": "d98c01f2",
   "metadata": {},
   "source": [
    "### Use a loop to simulate 5 deposits and 3 withdrawals.\n",
    "\n",
    "\n"
   ]
  },
  {
   "cell_type": "code",
   "execution_count": 3,
   "id": "bc946a33",
   "metadata": {},
   "outputs": [
    {
     "name": "stdout",
     "output_type": "stream",
     "text": [
      "Job deposited 100. New balance: 100.0\n",
      "Job deposited 200. New balance: 300.0\n",
      "Job deposited 150. New balance: 450.0\n",
      "Job deposited 50. New balance: 500.0\n",
      "Job deposited 300. New balance: 800.0\n",
      "Job withdrew 100. New balance: 700.0\n",
      "Job withdrew 250. New balance: 450.0\n",
      "Insufficient funds.\n",
      "\n",
      "Final balance: 450.0\n"
     ]
    }
   ],
   "source": [
    "class BankAccount:\n",
    "    def __init__(self, owner):\n",
    "        self.owner = owner\n",
    "        self.balance = 0.0\n",
    "\n",
    "    def deposit(self, amount):\n",
    "        if amount > 0:\n",
    "            self.balance += amount\n",
    "            print(f\"{self.owner} deposited {amount}. New balance: {self.balance}\")\n",
    "        else:\n",
    "            print(\"Deposit amount must be positive.\")\n",
    "\n",
    "    def withdraw(self, amount):\n",
    "        if amount <= self.balance:\n",
    "            self.balance -= amount\n",
    "            print(f\"{self.owner} withdrew {amount}. New balance: {self.balance}\")\n",
    "        else:\n",
    "            print(\"Insufficient funds.\")\n",
    "\n",
    "    def get_balance(self):\n",
    "        return self.balance\n",
    "\n",
    "# Create account\n",
    "account = BankAccount(\"Job\")\n",
    "\n",
    "# Simulate 5 deposits\n",
    "deposit_amounts = [100, 200, 150, 50, 300]\n",
    "for amount in deposit_amounts:\n",
    "    account.deposit(amount)\n",
    "\n",
    "# Simulate 3 withdrawals\n",
    "withdrawal_amounts = [100, 250, 500]\n",
    "for amount in withdrawal_amounts:\n",
    "    account.withdraw(amount)\n",
    "\n",
    "# Final balance\n",
    "print(f\"\\nFinal balance: {account.get_balance()}\")\n"
   ]
  },
  {
   "cell_type": "markdown",
   "id": "25c81aeb",
   "metadata": {},
   "source": [
    "### Create a class Cart that uses a dictionary to store item names as keys and quantity as values. Include:\n",
    "#### add_item(name, qty)\n",
    "#### remove_item(name)\n",
    "#### total_items()\n"
   ]
  },
  {
   "cell_type": "code",
   "execution_count": 4,
   "id": "c92bbd51",
   "metadata": {},
   "outputs": [
    {
     "name": "stdout",
     "output_type": "stream",
     "text": [
      "Added 3 of Apple to the cart.\n",
      "Added 2 of Banana to the cart.\n",
      "Added 1 of Apple to the cart.\n",
      "Total items in cart: 6\n",
      "Removed Banana from the cart.\n",
      "Total items in cart after removal: 4\n",
      "Orange not found in the cart.\n"
     ]
    }
   ],
   "source": [
    "class Cart:\n",
    "    def __init__(self):\n",
    "        self.items = {}  # Dictionary to store {item_name: quantity}\n",
    "\n",
    "    def add_item(self, name, qty):\n",
    "        if qty <= 0:\n",
    "            print(\"Quantity must be positive.\")\n",
    "            return\n",
    "        if name in self.items:\n",
    "            self.items[name] += qty\n",
    "        else:\n",
    "            self.items[name] = qty\n",
    "        print(f\"Added {qty} of {name} to the cart.\")\n",
    "\n",
    "    def remove_item(self, name):\n",
    "        if name in self.items:\n",
    "            del self.items[name]\n",
    "            print(f\"Removed {name} from the cart.\")\n",
    "        else:\n",
    "            print(f\"{name} not found in the cart.\")\n",
    "\n",
    "    def total_items(self):\n",
    "        total = sum(self.items.values())\n",
    "        return total\n",
    "\n",
    "cart = Cart()\n",
    "\n",
    "cart.add_item(\"Apple\", 3)\n",
    "cart.add_item(\"Banana\", 2)\n",
    "cart.add_item(\"Apple\", 1)  # Adds 1 more apple\n",
    "\n",
    "print(f\"Total items in cart: {cart.total_items()}\")\n",
    "\n",
    "cart.remove_item(\"Banana\")\n",
    "print(f\"Total items in cart after removal: {cart.total_items()}\")\n",
    "\n",
    "cart.remove_item(\"Orange\")  # Item not in cart\n"
   ]
  },
  {
   "cell_type": "markdown",
   "id": "cf09ff24",
   "metadata": {},
   "source": [
    "###  Create a method in Cart to display all items and quantities using a loop."
   ]
  },
  {
   "cell_type": "code",
   "execution_count": 5,
   "id": "384b1204",
   "metadata": {},
   "outputs": [
    {
     "name": "stdout",
     "output_type": "stream",
     "text": [
      "Added 3 of Apple to the cart.\n",
      "Added 2 of Banana to the cart.\n",
      "Items in the cart:\n",
      "- Apple: 3\n",
      "- Banana: 2\n",
      "Removed Banana from the cart.\n",
      "Items in the cart:\n",
      "- Apple: 3\n"
     ]
    }
   ],
   "source": [
    "class Cart:\n",
    "    def __init__(self):\n",
    "        self.items = {}\n",
    "\n",
    "    def add_item(self, name, qty):\n",
    "        if qty <= 0:\n",
    "            print(\"Quantity must be positive.\")\n",
    "            return\n",
    "        if name in self.items:\n",
    "            self.items[name] += qty\n",
    "        else:\n",
    "            self.items[name] = qty\n",
    "        print(f\"Added {qty} of {name} to the cart.\")\n",
    "\n",
    "    def remove_item(self, name):\n",
    "        if name in self.items:\n",
    "            del self.items[name]\n",
    "            print(f\"Removed {name} from the cart.\")\n",
    "        else:\n",
    "            print(f\"{name} not found in the cart.\")\n",
    "\n",
    "    def total_items(self):\n",
    "        return sum(self.items.values())\n",
    "\n",
    "    def display_items(self):\n",
    "        if not self.items:\n",
    "            print(\"The cart is empty.\")\n",
    "        else:\n",
    "            print(\"Items in the cart:\")\n",
    "            for item, qty in self.items.items():\n",
    "                print(f\"- {item}: {qty}\")\n",
    "\n",
    "cart = Cart()\n",
    "cart.add_item(\"Apple\", 3)\n",
    "cart.add_item(\"Banana\", 2)\n",
    "cart.display_items()\n",
    "\n",
    "cart.remove_item(\"Banana\")\n",
    "cart.display_items()\n"
   ]
  },
  {
   "cell_type": "markdown",
   "id": "b31c4b5b",
   "metadata": {},
   "source": [
    "###  Write a class School with a method enroll_students(*names) using variable-length arguments to accept any number of names."
   ]
  },
  {
   "cell_type": "code",
   "execution_count": 6,
   "id": "a2d7ca13",
   "metadata": {},
   "outputs": [
    {
     "name": "stdout",
     "output_type": "stream",
     "text": [
      "Enrolled student: Alice\n",
      "Enrolled student: Bob\n",
      "Enrolled student: Charlie\n",
      "Enrolled student: Diana\n",
      "Enrolled students:\n",
      "- Alice\n",
      "- Bob\n",
      "- Charlie\n",
      "- Diana\n"
     ]
    }
   ],
   "source": [
    "class School:\n",
    "    def __init__(self):\n",
    "        self.students = []\n",
    "\n",
    "    def enroll_students(self, *names):\n",
    "        for name in names:\n",
    "            self.students.append(name)\n",
    "            print(f\"Enrolled student: {name}\")\n",
    "\n",
    "    def list_students(self):\n",
    "        print(\"Enrolled students:\")\n",
    "        for student in self.students:\n",
    "            print(\"-\", student)\n",
    "\n",
    "school = School()\n",
    "school.enroll_students(\"Alice\", \"Bob\", \"Charlie\")\n",
    "school.enroll_students(\"Diana\")\n",
    "school.list_students()\n"
   ]
  },
  {
   "cell_type": "markdown",
   "id": "a234d6d6",
   "metadata": {},
   "source": [
    "### In the School class, create a method that returns the longest student name using a loop"
   ]
  },
  {
   "cell_type": "code",
   "execution_count": 8,
   "id": "7fcc313a",
   "metadata": {},
   "outputs": [
    {
     "name": "stdout",
     "output_type": "stream",
     "text": [
      "Enrolled student: Alice\n",
      "Enrolled student: Bob\n",
      "Enrolled student: Christina\n",
      "Enrolled student: Diana\n",
      "Longest student name: Christina\n"
     ]
    }
   ],
   "source": [
    "class School:\n",
    "    def __init__(self):\n",
    "        self.students = []\n",
    "\n",
    "    def enroll_students(self, *names):\n",
    "        for name in names:\n",
    "            self.students.append(name)\n",
    "            print(f\"Enrolled student: {name}\")\n",
    "\n",
    "    def list_students(self):\n",
    "        print(\"Enrolled students:\")\n",
    "        for student in self.students:\n",
    "            print(\"-\", student)\n",
    "\n",
    "    def longest_name(self):\n",
    "        if not self.students:\n",
    "            return None  # Or return \"\" if you prefer\n",
    "        longest = self.students[0]\n",
    "        for name in self.students:\n",
    "            if len(name) > len(longest):\n",
    "                longest = name\n",
    "        return longest\n",
    "\n",
    "school = School()\n",
    "school.enroll_students(\"Alice\", \"Bob\", \"Christina\", \"Diana\")\n",
    "print(\"Longest student name:\", school.longest_name())\n",
    "\n"
   ]
  },
  {
   "cell_type": "markdown",
   "id": "26debfce",
   "metadata": {},
   "source": [
    "###  Use list comprehension inside a class method to return all student names in uppercase"
   ]
  },
  {
   "cell_type": "code",
   "execution_count": 9,
   "id": "d38378aa",
   "metadata": {},
   "outputs": [
    {
     "name": "stdout",
     "output_type": "stream",
     "text": [
      "Enrolled student: Alice\n",
      "Enrolled student: Bob\n",
      "Enrolled student: Christina\n",
      "['ALICE', 'BOB', 'CHRISTINA']\n"
     ]
    }
   ],
   "source": [
    "class School:\n",
    "    def __init__(self):\n",
    "        self.students = []\n",
    "\n",
    "    def enroll_students(self, *names):\n",
    "        for name in names:\n",
    "            self.students.append(name)\n",
    "            print(f\"Enrolled student: {name}\")\n",
    "\n",
    "    def get_uppercase_names(self):\n",
    "        return [name.upper() for name in self.students]\n",
    "\n",
    "school = School()\n",
    "school.enroll_students(\"Alice\", \"Bob\", \"Christina\")\n",
    "\n",
    "uppercase_names = school.get_uppercase_names()\n",
    "print(uppercase_names)\n"
   ]
  },
  {
   "cell_type": "markdown",
   "id": "5886447c",
   "metadata": {},
   "source": [
    "### Write a method in Cart to return a list of items where the quantity is more than 2."
   ]
  },
  {
   "cell_type": "code",
   "execution_count": 10,
   "id": "f1c64238",
   "metadata": {},
   "outputs": [
    {
     "name": "stdout",
     "output_type": "stream",
     "text": [
      "Added 3 of Apple to the cart.\n",
      "Added 2 of Banana to the cart.\n",
      "Added 5 of Orange to the cart.\n",
      "Added 1 of Grapes to the cart.\n",
      "Items with quantity more than 2: ['Apple', 'Orange']\n"
     ]
    }
   ],
   "source": [
    "class Cart:\n",
    "    def __init__(self):\n",
    "        self.items = {}\n",
    "\n",
    "    def add_item(self, name, qty):\n",
    "        if qty <= 0:\n",
    "            print(\"Quantity must be positive.\")\n",
    "            return\n",
    "        if name in self.items:\n",
    "            self.items[name] += qty\n",
    "        else:\n",
    "            self.items[name] = qty\n",
    "        print(f\"Added {qty} of {name} to the cart.\")\n",
    "\n",
    "    def remove_item(self, name):\n",
    "        if name in self.items:\n",
    "            del self.items[name]\n",
    "            print(f\"Removed {name} from the cart.\")\n",
    "        else:\n",
    "            print(f\"{name} not found in the cart.\")\n",
    "\n",
    "    def total_items(self):\n",
    "        return sum(self.items.values())\n",
    "\n",
    "    def display_items(self):\n",
    "        if not self.items:\n",
    "            print(\"The cart is empty.\")\n",
    "        else:\n",
    "            print(\"Items in the cart:\")\n",
    "            for item, qty in self.items.items():\n",
    "                print(f\"- {item}: {qty}\")\n",
    "\n",
    "    def items_with_quantity_more_than_two(self):\n",
    "        return [item for item, qty in self.items.items() if qty > 2]\n",
    "\n",
    "cart = Cart()\n",
    "cart.add_item(\"Apple\", 3)\n",
    "cart.add_item(\"Banana\", 2)\n",
    "cart.add_item(\"Orange\", 5)\n",
    "cart.add_item(\"Grapes\", 1)\n",
    "\n",
    "print(\"Items with quantity more than 2:\", cart.items_with_quantity_more_than_two())\n"
   ]
  },
  {
   "cell_type": "markdown",
   "id": "7c8654e7",
   "metadata": {},
   "source": [
    "###  Write a method that checks whether a student exists in the list using the in operator."
   ]
  },
  {
   "cell_type": "code",
   "execution_count": 11,
   "id": "a54118dc",
   "metadata": {},
   "outputs": [
    {
     "name": "stdout",
     "output_type": "stream",
     "text": [
      "Enrolled student: Alice\n",
      "Enrolled student: Bob\n",
      "Enrolled student: Charlie\n",
      "True\n",
      "False\n"
     ]
    }
   ],
   "source": [
    "class School:\n",
    "    def __init__(self):\n",
    "        self.students = []\n",
    "\n",
    "    def enroll_students(self, *names):\n",
    "        for name in names:\n",
    "            self.students.append(name)\n",
    "            print(f\"Enrolled student: {name}\")\n",
    "\n",
    "    def student_exists(self, name):\n",
    "        return name in self.students\n",
    "\n",
    "school = School()\n",
    "school.enroll_students(\"Alice\", \"Bob\", \"Charlie\")\n",
    "\n",
    "print(school.student_exists(\"Bob\"))      # True\n",
    "print(school.student_exists(\"Diana\"))    # False\n"
   ]
  },
  {
   "cell_type": "markdown",
   "id": "7a60d90b",
   "metadata": {},
   "source": [
    "### In the Student class, write a method that returns a dictionary of subjects where the score is above 80"
   ]
  },
  {
   "cell_type": "code",
   "execution_count": 12,
   "id": "9aa84cfa",
   "metadata": {},
   "outputs": [
    {
     "name": "stdout",
     "output_type": "stream",
     "text": [
      "{'Math': 90, 'Science': 85}\n"
     ]
    }
   ],
   "source": [
    "class Student:\n",
    "    def __init__(self, name):\n",
    "        self.name = name\n",
    "        self.marks = {}  # Dictionary to store {subject: mark}\n",
    "\n",
    "    def add_subject_mark(self, subject, mark):\n",
    "        self.marks[subject] = mark\n",
    "\n",
    "    def subjects_above_80(self):\n",
    "        # Return a dict of subjects with marks above 80\n",
    "        return {subject: mark for subject, mark in self.marks.items() if mark > 80}\n",
    "\n",
    "student = Student(\"John\")\n",
    "student.add_subject_mark(\"Math\", 90)\n",
    "student.add_subject_mark(\"English\", 78)\n",
    "student.add_subject_mark(\"Science\", 85)\n",
    "\n",
    "print(student.subjects_above_80())\n"
   ]
  },
  {
   "cell_type": "markdown",
   "id": "cee59786",
   "metadata": {},
   "source": [
    "###  In any class, demonstrate the use of a while loop to simulate a basic countdown timer for an event (from 5 to 1)."
   ]
  },
  {
   "cell_type": "code",
   "execution_count": 13,
   "id": "7e86dd9a",
   "metadata": {},
   "outputs": [
    {
     "name": "stdout",
     "output_type": "stream",
     "text": [
      "Countdown to Launch starting now!\n",
      "5\n",
      "4\n",
      "3\n",
      "2\n",
      "1\n",
      "Event started!\n"
     ]
    }
   ],
   "source": [
    "import time\n",
    "\n",
    "class Event:\n",
    "    def __init__(self, name):\n",
    "        self.name = name\n",
    "\n",
    "    def countdown_timer(self, start=5):\n",
    "        print(f\"Countdown to {self.name} starting now!\")\n",
    "        count = start\n",
    "        while count > 0:\n",
    "            print(count)\n",
    "            time.sleep(1)  # Wait for 1 second (optional)\n",
    "            count -= 1\n",
    "        print(\"Event started!\")\n",
    "\n",
    "event = Event(\"Launch\")\n",
    "event.countdown_timer()\n"
   ]
  }
 ],
 "metadata": {
  "kernelspec": {
   "display_name": "base",
   "language": "python",
   "name": "python3"
  },
  "language_info": {
   "codemirror_mode": {
    "name": "ipython",
    "version": 3
   },
   "file_extension": ".py",
   "mimetype": "text/x-python",
   "name": "python",
   "nbconvert_exporter": "python",
   "pygments_lexer": "ipython3",
   "version": "3.12.7"
  }
 },
 "nbformat": 4,
 "nbformat_minor": 5
}
