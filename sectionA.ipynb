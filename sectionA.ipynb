{
 "cells": [
  {
   "cell_type": "markdown",
   "id": "5350a4da",
   "metadata": {},
   "source": [
    "### Define a class Book with attributes title, author, and year_published. Include a method get_info() that returns a formatted string with book details."
   ]
  },
  {
   "cell_type": "code",
   "execution_count": 5,
   "id": "4621dc1f",
   "metadata": {},
   "outputs": [
    {
     "data": {
      "text/plain": [
       "'The book is of title Atomic Habits and author James Clear and was published in the year 2010'"
      ]
     },
     "execution_count": 5,
     "metadata": {},
     "output_type": "execute_result"
    }
   ],
   "source": [
    "class Book:\n",
    "    def __init__(self,title,author,year_published):\n",
    "        self.title= title\n",
    "        self.author= author\n",
    "        self.year_published= year_published\n",
    "\n",
    "    def get_info(self):\n",
    "        return f\"The book is of title {self.title} and author {self.author} and was published in the year {self.year_published}\"\n",
    "\n",
    "book1= Book(\"Atomic Habits\",\"James Clear\",2010)\n",
    "\n",
    "book1.get_info()\n",
    "        \n"
   ]
  },
  {
   "cell_type": "markdown",
   "id": "235d7bc9",
   "metadata": {},
   "source": [
    "### Create an instance of the Book class for the book “1984” by George Orwell, published in 1949."
   ]
  },
  {
   "cell_type": "code",
   "execution_count": 3,
   "id": "aaf48778",
   "metadata": {},
   "outputs": [
    {
     "data": {
      "text/plain": [
       "'The book is of title 1984 and author George Orwell and was published in the year 1949'"
      ]
     },
     "execution_count": 3,
     "metadata": {},
     "output_type": "execute_result"
    }
   ],
   "source": [
    "book2 = Book(\"1984\", \"George Orwell\", 1949)\n",
    "\n",
    "book2.get_info()\n"
   ]
  },
  {
   "cell_type": "markdown",
   "id": "42016aa2",
   "metadata": {},
   "source": [
    "### Add a class variable to Book that keeps track of the total number of books created. Display the count.\n"
   ]
  },
  {
   "cell_type": "code",
   "execution_count": 8,
   "id": "4b2c1edf",
   "metadata": {},
   "outputs": [
    {
     "name": "stdout",
     "output_type": "stream",
     "text": [
      "Total number of books created: 3\n"
     ]
    }
   ],
   "source": [
    "class Book:\n",
    "    total_books = 0\n",
    "\n",
    "    def __init__(self, title, author, year_published):\n",
    "        self.title = title\n",
    "        self.author = author\n",
    "        self.year_published = year_published\n",
    "\n",
    "        Book.total_books += 1\n",
    "\n",
    "    def get_info(self):\n",
    "        return f\"The book is of title {self.title} and author {self.author} and was published in the year {self.year_published}\"\n",
    "\n",
    "book1 = Book(\"Atomic Habits\", \"James Clear\", 2010)\n",
    "book2 = Book(\"1984\", \"George Orwell\", 1949)\n",
    "book3 = Book(\"To Kill a Mockingbird\", \"Harper Lee\", 1960)\n",
    "\n",
    "book1.get_info()\n",
    "book2.get_info()\n",
    "book3.get_info()\n",
    "\n",
    "print(f\"Total number of books created: {Book.total_books}\")\n"
   ]
  },
  {
   "cell_type": "markdown",
   "id": "3095730a",
   "metadata": {},
   "source": [
    "### Modify the Book class to accept a list of genres as an attribute. Include a method has_genre(genre) that checks if the book belongs to a specific genre"
   ]
  },
  {
   "cell_type": "code",
   "execution_count": 9,
   "id": "543a6179",
   "metadata": {},
   "outputs": [
    {
     "data": {
      "text/plain": [
       "True"
      ]
     },
     "execution_count": 9,
     "metadata": {},
     "output_type": "execute_result"
    }
   ],
   "source": [
    "class Book:\n",
    "    total_books = 0\n",
    "\n",
    "    def __init__(self, title, author, year_published, genres):\n",
    "        self.title = title\n",
    "        self.author = author\n",
    "        self.year_published = year_published\n",
    "        self.genres = genres  \n",
    "        Book.total_books += 1\n",
    "\n",
    "    def get_info(self):\n",
    "        genre_list = \", \".join(self.genres)\n",
    "        return f\"The book '{self.title}' by {self.author} ({self.year_published}) belongs to genres: {genre_list}\"\n",
    "\n",
    "    def has_genre(self, genre):\n",
    "        for g in self.genres:\n",
    "            if genre.lower() == g.lower():\n",
    "                return True \n",
    "        return False  \n",
    "\n",
    "\n",
    "book1 = Book(\"1984\", \"George Orwell\", 1949, [\"Dystopian\", \"Political Fiction\", \"Science Fiction\"])\n",
    "\n",
    "book1.get_info()\n",
    "\n",
    "book1.has_genre(\"dystopian\")\n",
    "book1.has_genre(\"Romance\")\n",
    "book1.has_genre(\"SCIENCE fiction\")\n"
   ]
  },
  {
   "cell_type": "markdown",
   "id": "8f095fd7",
   "metadata": {},
   "source": [
    "### Create a class Library that contains a list of books and has\n",
    "#### 1 add_book(book) to add to the list.\n",
    "#### 2 get_books_by_author(author) to return all books by that author."
   ]
  },
  {
   "cell_type": "code",
   "execution_count": 10,
   "id": "280282cf",
   "metadata": {},
   "outputs": [
    {
     "name": "stdout",
     "output_type": "stream",
     "text": [
      "The book '1984' by George Orwell (1949) belongs to genres: Dystopian, Political Fiction\n",
      "The book 'Animal Farm' by George Orwell (1945) belongs to genres: Political Satire, Allegory\n"
     ]
    }
   ],
   "source": [
    "class Library:\n",
    "    def __init__(self):\n",
    "        self.books = []  # Initialize an empty list of books\n",
    "\n",
    "    def add_book(self, book):\n",
    "        \"\"\"Add a Book object to the library.\"\"\"\n",
    "        self.books.append(book)\n",
    "\n",
    "    def get_books_by_author(self, author):\n",
    "        \"\"\"\n",
    "        Return a list of all books written by the given author.\n",
    "        The search is case-insensitive.\n",
    "        \"\"\"\n",
    "        result = []\n",
    "        for book in self.books:\n",
    "            if book.author.lower() == author.lower():\n",
    "                result.append(book)\n",
    "        return result\n",
    "\n",
    "# Assuming the Book class from before is defined...\n",
    "\n",
    "library = Library()\n",
    "\n",
    "book1 = Book(\"1984\", \"George Orwell\", 1949, [\"Dystopian\", \"Political Fiction\"])\n",
    "book2 = Book(\"Animal Farm\", \"George Orwell\", 1945, [\"Political Satire\", \"Allegory\"])\n",
    "book3 = Book(\"To Kill a Mockingbird\", \"Harper Lee\", 1960, [\"Southern Gothic\", \"Coming-of-Age\"])\n",
    "\n",
    "library.add_book(book1)\n",
    "library.add_book(book2)\n",
    "library.add_book(book3)\n",
    "\n",
    "orwell_books = library.get_books_by_author(\"george orwell\")\n",
    "\n",
    "for b in orwell_books:\n",
    "    print(b.get_info())\n"
   ]
  }
 ],
 "metadata": {
  "kernelspec": {
   "display_name": "base",
   "language": "python",
   "name": "python3"
  },
  "language_info": {
   "codemirror_mode": {
    "name": "ipython",
    "version": 3
   },
   "file_extension": ".py",
   "mimetype": "text/x-python",
   "name": "python",
   "nbconvert_exporter": "python",
   "pygments_lexer": "ipython3",
   "version": "3.12.7"
  }
 },
 "nbformat": 4,
 "nbformat_minor": 5
}
