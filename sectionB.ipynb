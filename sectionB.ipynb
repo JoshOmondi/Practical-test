{
 "cells": [
  {
   "cell_type": "markdown",
   "id": "fdeccc79",
   "metadata": {},
   "source": [
    "###  Create a base class Employee with attributes name, age, and salary. Add a method work() that prints a generic work message."
   ]
  },
  {
   "cell_type": "code",
   "execution_count": 3,
   "id": "6b073b99",
   "metadata": {},
   "outputs": [
    {
     "data": {
      "text/plain": [
       "'Joshua is working at just an age of 23 but earning a salary of 200000'"
      ]
     },
     "execution_count": 3,
     "metadata": {},
     "output_type": "execute_result"
    }
   ],
   "source": [
    "class Employee:\n",
    "    def __init__(self, name, age, salary):\n",
    "        self.name = name\n",
    "        self.age = age\n",
    "        self.salary = salary\n",
    "\n",
    "    def work(self):\n",
    "        return f\"{self.name} is working at just an age of {self.age} but earning a salary of {self.salary}\"\n",
    "\n",
    "employee= Employee(\"Joshua\",23,200000)\n",
    "\n",
    "employee.work()"
   ]
  },
  {
   "cell_type": "markdown",
   "id": "7619434d",
   "metadata": {},
   "source": [
    "### Create a subclass Manager that inherits from Employee. Add an attribute team_size and override the work() method to include their role and team size"
   ]
  },
  {
   "cell_type": "code",
   "execution_count": 4,
   "id": "c8809009",
   "metadata": {},
   "outputs": [
    {
     "data": {
      "text/plain": [
       "'Ian is managing a team of 12 people, at just 35 years old and earning 500000 in salary!'"
      ]
     },
     "execution_count": 4,
     "metadata": {},
     "output_type": "execute_result"
    }
   ],
   "source": [
    "class Employee:\n",
    "    def __init__(self, name, age, salary):\n",
    "        self.name = name\n",
    "        self.age = age\n",
    "        self.salary = salary\n",
    "\n",
    "    def work(self):\n",
    "        return f\"{self.name} is working at just an age of {self.age} but earning a salary of {self.salary}\"\n",
    "\n",
    "\n",
    "class Manager(Employee):\n",
    "    def __init__(self, name, age, salary, team_size):\n",
    "        super().__init__(name, age, salary)\n",
    "        self.team_size = team_size\n",
    "\n",
    "    def work(self):\n",
    "        return (f\"{self.name} is managing a team of {self.team_size} people, \"\n",
    "                f\"at just {self.age} years old and earning {self.salary} in salary!\")\n",
    "\n",
    "\n",
    "employee = Employee(\"Joshua\", 23, 200000)\n",
    "employee.work()\n",
    "\n",
    "manager = Manager(\"Ian\", 35, 500000, 12)\n",
    "manager.work()\n"
   ]
  },
  {
   "cell_type": "markdown",
   "id": "184cd464",
   "metadata": {},
   "source": [
    "### Create another subclass Developer with an extra attribute language. Add a method code() that prints a message showing what language they’re coding in"
   ]
  },
  {
   "cell_type": "code",
   "execution_count": 5,
   "id": "cd3e64f3",
   "metadata": {},
   "outputs": [
    {
     "data": {
      "text/plain": [
       "'Tom is coding in Python.'"
      ]
     },
     "execution_count": 5,
     "metadata": {},
     "output_type": "execute_result"
    }
   ],
   "source": [
    "class Employee:\n",
    "    def __init__(self, name, age, salary):\n",
    "        self.name = name\n",
    "        self.age = age\n",
    "        self.salary = salary\n",
    "\n",
    "    def work(self):\n",
    "        return f\"{self.name} is working at just an age of {self.age} but earning a salary of {self.salary}\"\n",
    "\n",
    "\n",
    "class Manager(Employee):\n",
    "    def __init__(self, name, age, salary, team_size):\n",
    "        super().__init__(name, age, salary)\n",
    "        self.team_size = team_size\n",
    "\n",
    "    def work(self):\n",
    "        return (f\"{self.name} is managing a team of {self.team_size} people, \"\n",
    "                f\"at just {self.age} years old and earning {self.salary} in salary!\")\n",
    "\n",
    "\n",
    "class Developer(Employee):\n",
    "    def __init__(self, name, age, salary, language):\n",
    "        super().__init__(name, age, salary)\n",
    "        self.language = language\n",
    "\n",
    "    def code(self):\n",
    "        return f\"{self.name} is coding in {self.language}.\"\n",
    "\n",
    "\n",
    "employee = Employee(\"Joshua\", 23, 200000)\n",
    "employee.work()\n",
    "\n",
    "manager = Manager(\"Alice\", 35, 500000, 12)\n",
    "manager.work()\n",
    "\n",
    "developer = Developer(\"Tom\", 28, 300000, \"Python\")\n",
    "developer.work()\n",
    "developer.code()\n"
   ]
  },
  {
   "cell_type": "markdown",
   "id": "ef7c0694",
   "metadata": {},
   "source": [
    "### Create a list of Employee objects (some Managers, some Developers). Loop through the list and call the work() method on each."
   ]
  },
  {
   "cell_type": "code",
   "execution_count": 6,
   "id": "71ef3fe2",
   "metadata": {},
   "outputs": [
    {
     "name": "stdout",
     "output_type": "stream",
     "text": [
      "Alice is managing a team of 12 people, at just 35 years old and earning 500000 in salary!\n",
      "Tom is working at just an age of 28 but earning a salary of 300000\n",
      "Linda is working at just an age of 25 but earning a salary of 280000\n",
      "Michael is managing a team of 20 people, at just 45 years old and earning 600000 in salary!\n",
      "Joshua is working at just an age of 23 but earning a salary of 200000\n",
      "Developers coding:\n",
      "Tom is coding in Python.\n",
      "Linda is coding in JavaScript.\n"
     ]
    }
   ],
   "source": [
    "class Employee:\n",
    "    def __init__(self, name, age, salary):\n",
    "        self.name = name\n",
    "        self.age = age\n",
    "        self.salary = salary\n",
    "\n",
    "    def work(self):\n",
    "        return f\"{self.name} is working at just an age of {self.age} but earning a salary of {self.salary}\"\n",
    "\n",
    "\n",
    "class Manager(Employee):\n",
    "    def __init__(self, name, age, salary, team_size):\n",
    "        super().__init__(name, age, salary)\n",
    "        self.team_size = team_size\n",
    "\n",
    "    def work(self):\n",
    "        return (f\"{self.name} is managing a team of {self.team_size} people, \"\n",
    "                f\"at just {self.age} years old and earning {self.salary} in salary!\")\n",
    "\n",
    "\n",
    "class Developer(Employee):\n",
    "    def __init__(self, name, age, salary, language):\n",
    "        super().__init__(name, age, salary)\n",
    "        self.language = language\n",
    "\n",
    "    def code(self):\n",
    "        return f\"{self.name} is coding in {self.language}.\"\n",
    "\n",
    "\n",
    "employees = [\n",
    "    Manager(\"Alice\", 35, 500000, 12),\n",
    "    Developer(\"Tom\", 28, 300000, \"Python\"),\n",
    "    Developer(\"Linda\", 25, 280000, \"JavaScript\"),\n",
    "    Manager(\"Michael\", 45, 600000, 20),\n",
    "    Employee(\"Joshua\", 23, 200000)\n",
    "]\n",
    "\n",
    "# Loop through the list and call work() on each\n",
    "for emp in employees:\n",
    "    print(emp.work())\n",
    "\n",
    "# Optionally, call code() only on Developers\n",
    "print(\"Developers coding:\")\n",
    "for emp in employees:\n",
    "    if isinstance(emp, Developer):\n",
    "        print(emp.code())\n"
   ]
  },
  {
   "cell_type": "markdown",
   "id": "282a4942",
   "metadata": {},
   "source": [
    "### Write a function calculate_total_salary(employees) that takes the list and returns the total salary"
   ]
  },
  {
   "cell_type": "code",
   "execution_count": 7,
   "id": "70845363",
   "metadata": {},
   "outputs": [
    {
     "name": "stdout",
     "output_type": "stream",
     "text": [
      "\n",
      "Total salary paid to all employees: 1880000\n"
     ]
    }
   ],
   "source": [
    "def calculate_total_salary(employees):\n",
    "    total = 0\n",
    "    for emp in employees:\n",
    "        total += emp.salary\n",
    "    return total\n",
    "\n",
    "# Same employees list from before\n",
    "employees = [\n",
    "    Manager(\"Alice\", 35, 500000, 12),\n",
    "    Developer(\"Tom\", 28, 300000, \"Python\"),\n",
    "    Developer(\"Linda\", 25, 280000, \"JavaScript\"),\n",
    "    Manager(\"Michael\", 45, 600000, 20),\n",
    "    Employee(\"Joshua\", 23, 200000)\n",
    "]\n",
    "\n",
    "# Call the function and print the result\n",
    "total_salary = calculate_total_salary(employees)\n",
    "print(f\"\\nTotal salary paid to all employees: {total_salary}\")\n"
   ]
  }
 ],
 "metadata": {
  "kernelspec": {
   "display_name": "base",
   "language": "python",
   "name": "python3"
  },
  "language_info": {
   "codemirror_mode": {
    "name": "ipython",
    "version": 3
   },
   "file_extension": ".py",
   "mimetype": "text/x-python",
   "name": "python",
   "nbconvert_exporter": "python",
   "pygments_lexer": "ipython3",
   "version": "3.12.7"
  }
 },
 "nbformat": 4,
 "nbformat_minor": 5
}
